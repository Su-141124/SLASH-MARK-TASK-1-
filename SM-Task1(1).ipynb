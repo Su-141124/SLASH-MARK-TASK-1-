{
 "cells": [
  {
   "cell_type": "code",
   "execution_count": 1,
   "id": "7d5c8e3e-ddc5-4b5e-a468-9a62d381b7ce",
   "metadata": {},
   "outputs": [
    {
     "name": "stdout",
     "output_type": "stream",
     "text": [
      "Requirement already satisfied: textblob in c:\\users\\shaik suhana\\appdata\\local\\programs\\python\\python313\\lib\\site-packages (0.19.0)\n",
      "Requirement already satisfied: nltk>=3.9 in c:\\users\\shaik suhana\\appdata\\local\\programs\\python\\python313\\lib\\site-packages (from textblob) (3.9.1)\n",
      "Requirement already satisfied: click in c:\\users\\shaik suhana\\appdata\\local\\programs\\python\\python313\\lib\\site-packages (from nltk>=3.9->textblob) (8.1.8)\n",
      "Requirement already satisfied: joblib in c:\\users\\shaik suhana\\appdata\\local\\programs\\python\\python313\\lib\\site-packages (from nltk>=3.9->textblob) (1.4.2)\n",
      "Requirement already satisfied: regex>=2021.8.3 in c:\\users\\shaik suhana\\appdata\\local\\programs\\python\\python313\\lib\\site-packages (from nltk>=3.9->textblob) (2024.11.6)\n",
      "Requirement already satisfied: tqdm in c:\\users\\shaik suhana\\appdata\\local\\programs\\python\\python313\\lib\\site-packages (from nltk>=3.9->textblob) (4.67.1)\n",
      "Requirement already satisfied: colorama in c:\\users\\shaik suhana\\appdata\\local\\programs\\python\\python313\\lib\\site-packages (from click->nltk>=3.9->textblob) (0.4.6)\n",
      "Note: you may need to restart the kernel to use updated packages.\n"
     ]
    }
   ],
   "source": [
    "pip install textblob\n"
   ]
  },
  {
   "cell_type": "code",
   "execution_count": 1,
   "id": "2216d6e8-8865-4773-8a33-f34c933ae67c",
   "metadata": {},
   "outputs": [
    {
     "name": "stdout",
     "output_type": "stream",
     "text": [
      "Review: The food was absolutely wonderful!\n",
      "Sentiment: Positive\n",
      "\n",
      "Review: Service was okay, not great.\n",
      "Sentiment: Positive\n",
      "\n",
      "Review: I didn't like the ambiance at all.\n",
      "Sentiment: Neutral\n",
      "\n",
      "Review: Great experience and friendly staff!\n",
      "Sentiment: Positive\n",
      "\n",
      "Review: The place was too noisy.\n",
      "Sentiment: Neutral\n",
      "\n"
     ]
    }
   ],
   "source": [
    "from textblob import TextBlob\n",
    "\n",
    "def analyze_sentiment(text):\n",
    "    \"\"\"\n",
    "    Analyze the sentiment of the input text.\n",
    "    \n",
    "    Parameters:\n",
    "        text (str): Text to analyze\n",
    "    \n",
    "    Returns:\n",
    "        sentiment (str): 'Positive', 'Negative', or 'Neutral'\n",
    "    \"\"\"\n",
    "    blob = TextBlob(text)\n",
    "    polarity = blob.sentiment.polarity\n",
    "\n",
    "    if polarity > 0:\n",
    "        return \"Positive\"\n",
    "    elif polarity < 0:\n",
    "        return \"Negative\"\n",
    "    else:\n",
    "        return \"Neutral\"\n",
    "\n",
    "# Sample restaurant reviews\n",
    "reviews = [\n",
    "    \"The food was absolutely wonderful!\",\n",
    "    \"Service was okay, not great.\",\n",
    "    \"I didn't like the ambiance at all.\",\n",
    "    \"Great experience and friendly staff!\",\n",
    "    \"The place was too noisy.\"\n",
    "]\n",
    "\n",
    "# Analyze each review\n",
    "for review in reviews:\n",
    "    sentiment = analyze_sentiment(review)\n",
    "    print(f\"Review: {review}\\nSentiment: {sentiment}\\n\")\n"
   ]
  }
 ],
 "metadata": {
  "kernelspec": {
   "display_name": "Python 3 (ipykernel)",
   "language": "python",
   "name": "python3"
  },
  "language_info": {
   "codemirror_mode": {
    "name": "ipython",
    "version": 3
   },
   "file_extension": ".py",
   "mimetype": "text/x-python",
   "name": "python",
   "nbconvert_exporter": "python",
   "pygments_lexer": "ipython3",
   "version": "3.13.2"
  }
 },
 "nbformat": 4,
 "nbformat_minor": 5
}
